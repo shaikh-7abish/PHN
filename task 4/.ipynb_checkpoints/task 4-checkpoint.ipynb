{
 "cells": [
  {
   "cell_type": "code",
   "execution_count": 1,
   "id": "6b224e3e",
   "metadata": {},
   "outputs": [],
   "source": [
    "import numpy as np"
   ]
  },
  {
   "cell_type": "markdown",
   "id": "eb88066e",
   "metadata": {},
   "source": [
    "### 1. Creating numpy array 'a'"
   ]
  },
  {
   "cell_type": "code",
   "execution_count": 2,
   "id": "673ffe9a",
   "metadata": {},
   "outputs": [],
   "source": [
    "a = np.array([[0,1,2,3,4,5]])"
   ]
  },
  {
   "cell_type": "markdown",
   "id": "53a7a521",
   "metadata": {},
   "source": [
    "### 2. Printing shape of 'a' array"
   ]
  },
  {
   "cell_type": "code",
   "execution_count": 3,
   "id": "861e77df",
   "metadata": {},
   "outputs": [
    {
     "name": "stdout",
     "output_type": "stream",
     "text": [
      "(1, 6)\n"
     ]
    }
   ],
   "source": [
    "print(a.shape)"
   ]
  },
  {
   "cell_type": "markdown",
   "id": "10d5048c",
   "metadata": {},
   "source": [
    "### 3. Reshaping the array into 2D array with 2 rows and 3 columns"
   ]
  },
  {
   "cell_type": "code",
   "execution_count": 4,
   "id": "0a09225a",
   "metadata": {},
   "outputs": [],
   "source": [
    "reshapedA = a.reshape(2,3)"
   ]
  },
  {
   "cell_type": "code",
   "execution_count": 5,
   "id": "72b78108",
   "metadata": {},
   "outputs": [
    {
     "data": {
      "text/plain": [
       "array([[0, 1, 2],\n",
       "       [3, 4, 5]])"
      ]
     },
     "execution_count": 5,
     "metadata": {},
     "output_type": "execute_result"
    }
   ],
   "source": [
    "reshapedA"
   ]
  },
  {
   "cell_type": "markdown",
   "id": "e415d5f8",
   "metadata": {},
   "source": [
    "### 4. Printing the shape of new array"
   ]
  },
  {
   "cell_type": "code",
   "execution_count": 6,
   "id": "95da42a5",
   "metadata": {},
   "outputs": [
    {
     "data": {
      "text/plain": [
       "(2, 3)"
      ]
     },
     "execution_count": 6,
     "metadata": {},
     "output_type": "execute_result"
    }
   ],
   "source": [
    "reshapedA.shape"
   ]
  },
  {
   "cell_type": "markdown",
   "id": "f9478a31",
   "metadata": {},
   "source": [
    "### 5. Creating a second numpy array 'b'"
   ]
  },
  {
   "cell_type": "code",
   "execution_count": 7,
   "id": "efe90447",
   "metadata": {},
   "outputs": [],
   "source": [
    "b = np.array([[6,7,8,9,10]])"
   ]
  },
  {
   "cell_type": "code",
   "execution_count": 8,
   "id": "626e5eff",
   "metadata": {},
   "outputs": [
    {
     "data": {
      "text/plain": [
       "(1, 5)"
      ]
     },
     "execution_count": 8,
     "metadata": {},
     "output_type": "execute_result"
    }
   ],
   "source": [
    "b.shape"
   ]
  },
  {
   "cell_type": "markdown",
   "id": "fa584f3e",
   "metadata": {},
   "source": [
    "### 6. Concatenating the two arrays together horizontally "
   ]
  },
  {
   "cell_type": "code",
   "execution_count": 9,
   "id": "a4b34f8d",
   "metadata": {},
   "outputs": [],
   "source": [
    "c = np.hstack((a, b))"
   ]
  },
  {
   "cell_type": "markdown",
   "id": "9b1b417e",
   "metadata": {},
   "source": [
    "### 7. Printing the resulting array"
   ]
  },
  {
   "cell_type": "code",
   "execution_count": 10,
   "id": "c1c396db",
   "metadata": {},
   "outputs": [
    {
     "data": {
      "text/plain": [
       "array([[ 0,  1,  2,  3,  4,  5,  6,  7,  8,  9, 10]])"
      ]
     },
     "execution_count": 10,
     "metadata": {},
     "output_type": "execute_result"
    }
   ],
   "source": [
    "c"
   ]
  },
  {
   "cell_type": "markdown",
   "id": "b522d34b",
   "metadata": {},
   "source": [
    "### 8. Computing the resulting array's mean, median, and standard deviation"
   ]
  },
  {
   "cell_type": "code",
   "execution_count": 11,
   "id": "c6b4e280",
   "metadata": {},
   "outputs": [
    {
     "data": {
      "text/plain": [
       "5.0"
      ]
     },
     "execution_count": 11,
     "metadata": {},
     "output_type": "execute_result"
    }
   ],
   "source": [
    "np.mean(c)"
   ]
  },
  {
   "cell_type": "code",
   "execution_count": 12,
   "id": "cd66f9d6",
   "metadata": {},
   "outputs": [
    {
     "data": {
      "text/plain": [
       "5.0"
      ]
     },
     "execution_count": 12,
     "metadata": {},
     "output_type": "execute_result"
    }
   ],
   "source": [
    "np.median(c)"
   ]
  },
  {
   "cell_type": "code",
   "execution_count": 13,
   "id": "67cf6ba8",
   "metadata": {},
   "outputs": [
    {
     "data": {
      "text/plain": [
       "3.1622776601683795"
      ]
     },
     "execution_count": 13,
     "metadata": {},
     "output_type": "execute_result"
    }
   ],
   "source": [
    "np.std(c)"
   ]
  },
  {
   "cell_type": "code",
   "execution_count": null,
   "id": "33361b08",
   "metadata": {},
   "outputs": [],
   "source": []
  }
 ],
 "metadata": {
  "kernelspec": {
   "display_name": "Python 3 (ipykernel)",
   "language": "python",
   "name": "python3"
  },
  "language_info": {
   "codemirror_mode": {
    "name": "ipython",
    "version": 3
   },
   "file_extension": ".py",
   "mimetype": "text/x-python",
   "name": "python",
   "nbconvert_exporter": "python",
   "pygments_lexer": "ipython3",
   "version": "3.9.13"
  }
 },
 "nbformat": 4,
 "nbformat_minor": 5
}
