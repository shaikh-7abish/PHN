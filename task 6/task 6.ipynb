{
 "cells": [
  {
   "cell_type": "markdown",
   "id": "9f3b6bd4",
   "metadata": {},
   "source": [
    "### Importing Modules"
   ]
  },
  {
   "cell_type": "code",
   "execution_count": 19,
   "id": "1953beba",
   "metadata": {},
   "outputs": [],
   "source": [
    "import numpy as np\n",
    "import pandas as pd\n",
    "import matplotlib.pyplot as plt\n",
    "import seaborn as sns"
   ]
  },
  {
   "cell_type": "markdown",
   "id": "bb35b183",
   "metadata": {},
   "source": [
    "### Dataset Generation"
   ]
  },
  {
   "cell_type": "code",
   "execution_count": 4,
   "id": "1a1329e4",
   "metadata": {},
   "outputs": [],
   "source": [
    "from sklearn.datasets import make_regression\n",
    "X,Y = make_regression(n_samples = 100, n_features = 5, random_state=12)"
   ]
  },
  {
   "cell_type": "code",
   "execution_count": 5,
   "id": "119ba3d7",
   "metadata": {},
   "outputs": [
    {
     "data": {
      "text/html": [
       "<div>\n",
       "<style scoped>\n",
       "    .dataframe tbody tr th:only-of-type {\n",
       "        vertical-align: middle;\n",
       "    }\n",
       "\n",
       "    .dataframe tbody tr th {\n",
       "        vertical-align: top;\n",
       "    }\n",
       "\n",
       "    .dataframe thead th {\n",
       "        text-align: right;\n",
       "    }\n",
       "</style>\n",
       "<table border=\"1\" class=\"dataframe\">\n",
       "  <thead>\n",
       "    <tr style=\"text-align: right;\">\n",
       "      <th></th>\n",
       "      <th>0</th>\n",
       "      <th>1</th>\n",
       "      <th>2</th>\n",
       "      <th>3</th>\n",
       "      <th>4</th>\n",
       "    </tr>\n",
       "  </thead>\n",
       "  <tbody>\n",
       "    <tr>\n",
       "      <th>0</th>\n",
       "      <td>-0.702389</td>\n",
       "      <td>1.121277</td>\n",
       "      <td>0.619558</td>\n",
       "      <td>-0.579329</td>\n",
       "      <td>-1.160888</td>\n",
       "    </tr>\n",
       "    <tr>\n",
       "      <th>1</th>\n",
       "      <td>-0.713856</td>\n",
       "      <td>0.073252</td>\n",
       "      <td>-0.997204</td>\n",
       "      <td>-0.677945</td>\n",
       "      <td>0.035416</td>\n",
       "    </tr>\n",
       "    <tr>\n",
       "      <th>2</th>\n",
       "      <td>0.332464</td>\n",
       "      <td>-0.642470</td>\n",
       "      <td>0.220308</td>\n",
       "      <td>0.082962</td>\n",
       "      <td>0.568151</td>\n",
       "    </tr>\n",
       "    <tr>\n",
       "      <th>3</th>\n",
       "      <td>-3.015915</td>\n",
       "      <td>0.224547</td>\n",
       "      <td>-1.163467</td>\n",
       "      <td>0.331393</td>\n",
       "      <td>0.593969</td>\n",
       "    </tr>\n",
       "    <tr>\n",
       "      <th>4</th>\n",
       "      <td>0.380114</td>\n",
       "      <td>0.083527</td>\n",
       "      <td>-1.658425</td>\n",
       "      <td>1.269859</td>\n",
       "      <td>-0.956673</td>\n",
       "    </tr>\n",
       "    <tr>\n",
       "      <th>...</th>\n",
       "      <td>...</td>\n",
       "      <td>...</td>\n",
       "      <td>...</td>\n",
       "      <td>...</td>\n",
       "      <td>...</td>\n",
       "    </tr>\n",
       "    <tr>\n",
       "      <th>95</th>\n",
       "      <td>-0.217368</td>\n",
       "      <td>0.205104</td>\n",
       "      <td>0.315885</td>\n",
       "      <td>-1.390456</td>\n",
       "      <td>0.691474</td>\n",
       "    </tr>\n",
       "    <tr>\n",
       "      <th>96</th>\n",
       "      <td>0.827424</td>\n",
       "      <td>-1.167800</td>\n",
       "      <td>-0.334090</td>\n",
       "      <td>-0.855405</td>\n",
       "      <td>0.865017</td>\n",
       "    </tr>\n",
       "    <tr>\n",
       "      <th>97</th>\n",
       "      <td>1.407948</td>\n",
       "      <td>0.046403</td>\n",
       "      <td>0.666078</td>\n",
       "      <td>-0.935975</td>\n",
       "      <td>0.051149</td>\n",
       "    </tr>\n",
       "    <tr>\n",
       "      <th>98</th>\n",
       "      <td>0.410545</td>\n",
       "      <td>-0.788323</td>\n",
       "      <td>-1.156447</td>\n",
       "      <td>-0.650858</td>\n",
       "      <td>-0.633212</td>\n",
       "    </tr>\n",
       "    <tr>\n",
       "      <th>99</th>\n",
       "      <td>-0.083449</td>\n",
       "      <td>0.943575</td>\n",
       "      <td>0.357644</td>\n",
       "      <td>0.556060</td>\n",
       "      <td>0.677806</td>\n",
       "    </tr>\n",
       "  </tbody>\n",
       "</table>\n",
       "<p>100 rows × 5 columns</p>\n",
       "</div>"
      ],
      "text/plain": [
       "           0         1         2         3         4\n",
       "0  -0.702389  1.121277  0.619558 -0.579329 -1.160888\n",
       "1  -0.713856  0.073252 -0.997204 -0.677945  0.035416\n",
       "2   0.332464 -0.642470  0.220308  0.082962  0.568151\n",
       "3  -3.015915  0.224547 -1.163467  0.331393  0.593969\n",
       "4   0.380114  0.083527 -1.658425  1.269859 -0.956673\n",
       "..       ...       ...       ...       ...       ...\n",
       "95 -0.217368  0.205104  0.315885 -1.390456  0.691474\n",
       "96  0.827424 -1.167800 -0.334090 -0.855405  0.865017\n",
       "97  1.407948  0.046403  0.666078 -0.935975  0.051149\n",
       "98  0.410545 -0.788323 -1.156447 -0.650858 -0.633212\n",
       "99 -0.083449  0.943575  0.357644  0.556060  0.677806\n",
       "\n",
       "[100 rows x 5 columns]"
      ]
     },
     "execution_count": 5,
     "metadata": {},
     "output_type": "execute_result"
    }
   ],
   "source": [
    "X = pd.DataFrame(X)\n",
    "X"
   ]
  },
  {
   "cell_type": "code",
   "execution_count": 6,
   "id": "e03cc10f",
   "metadata": {},
   "outputs": [
    {
     "data": {
      "text/html": [
       "<div>\n",
       "<style scoped>\n",
       "    .dataframe tbody tr th:only-of-type {\n",
       "        vertical-align: middle;\n",
       "    }\n",
       "\n",
       "    .dataframe tbody tr th {\n",
       "        vertical-align: top;\n",
       "    }\n",
       "\n",
       "    .dataframe thead th {\n",
       "        text-align: right;\n",
       "    }\n",
       "</style>\n",
       "<table border=\"1\" class=\"dataframe\">\n",
       "  <thead>\n",
       "    <tr style=\"text-align: right;\">\n",
       "      <th></th>\n",
       "      <th>0</th>\n",
       "      <th>1</th>\n",
       "      <th>2</th>\n",
       "      <th>3</th>\n",
       "      <th>4</th>\n",
       "    </tr>\n",
       "  </thead>\n",
       "  <tbody>\n",
       "    <tr>\n",
       "      <th>count</th>\n",
       "      <td>100.000000</td>\n",
       "      <td>100.000000</td>\n",
       "      <td>100.000000</td>\n",
       "      <td>100.000000</td>\n",
       "      <td>100.000000</td>\n",
       "    </tr>\n",
       "    <tr>\n",
       "      <th>mean</th>\n",
       "      <td>0.063589</td>\n",
       "      <td>-0.072818</td>\n",
       "      <td>-0.093018</td>\n",
       "      <td>-0.096895</td>\n",
       "      <td>-0.128208</td>\n",
       "    </tr>\n",
       "    <tr>\n",
       "      <th>std</th>\n",
       "      <td>0.949184</td>\n",
       "      <td>1.032222</td>\n",
       "      <td>1.018424</td>\n",
       "      <td>0.997711</td>\n",
       "      <td>1.043167</td>\n",
       "    </tr>\n",
       "    <tr>\n",
       "      <th>min</th>\n",
       "      <td>-3.015915</td>\n",
       "      <td>-2.213333</td>\n",
       "      <td>-2.488004</td>\n",
       "      <td>-2.604996</td>\n",
       "      <td>-3.147417</td>\n",
       "    </tr>\n",
       "    <tr>\n",
       "      <th>25%</th>\n",
       "      <td>-0.545194</td>\n",
       "      <td>-0.745958</td>\n",
       "      <td>-0.848595</td>\n",
       "      <td>-0.792650</td>\n",
       "      <td>-0.784962</td>\n",
       "    </tr>\n",
       "    <tr>\n",
       "      <th>50%</th>\n",
       "      <td>0.134661</td>\n",
       "      <td>-0.010609</td>\n",
       "      <td>-0.065799</td>\n",
       "      <td>-0.128651</td>\n",
       "      <td>-0.185405</td>\n",
       "    </tr>\n",
       "    <tr>\n",
       "      <th>75%</th>\n",
       "      <td>0.699151</td>\n",
       "      <td>0.510044</td>\n",
       "      <td>0.527419</td>\n",
       "      <td>0.515722</td>\n",
       "      <td>0.679870</td>\n",
       "    </tr>\n",
       "    <tr>\n",
       "      <th>max</th>\n",
       "      <td>2.241818</td>\n",
       "      <td>2.639046</td>\n",
       "      <td>3.166557</td>\n",
       "      <td>2.871819</td>\n",
       "      <td>3.041686</td>\n",
       "    </tr>\n",
       "  </tbody>\n",
       "</table>\n",
       "</div>"
      ],
      "text/plain": [
       "                0           1           2           3           4\n",
       "count  100.000000  100.000000  100.000000  100.000000  100.000000\n",
       "mean     0.063589   -0.072818   -0.093018   -0.096895   -0.128208\n",
       "std      0.949184    1.032222    1.018424    0.997711    1.043167\n",
       "min     -3.015915   -2.213333   -2.488004   -2.604996   -3.147417\n",
       "25%     -0.545194   -0.745958   -0.848595   -0.792650   -0.784962\n",
       "50%      0.134661   -0.010609   -0.065799   -0.128651   -0.185405\n",
       "75%      0.699151    0.510044    0.527419    0.515722    0.679870\n",
       "max      2.241818    2.639046    3.166557    2.871819    3.041686"
      ]
     },
     "execution_count": 6,
     "metadata": {},
     "output_type": "execute_result"
    }
   ],
   "source": [
    "X.describe()"
   ]
  },
  {
   "cell_type": "code",
   "execution_count": 30,
   "id": "0d458d3c",
   "metadata": {},
   "outputs": [
    {
     "data": {
      "image/png": "[encoded data removed]",
      "text/plain": [
       "<Figure size 640x480 with 1 Axes>"
      ]
     },
     "metadata": {},
     "output_type": "display_data"
    }
   ],
   "source": [
    "sns.histplot(X)\n",
    "plt.title('Distribution')\n",
    "plt.xlabel('Value')\n",
    "plt.show()"
   ]
  },
  {
   "cell_type": "code",
   "execution_count": 7,
   "id": "6b626e27",
   "metadata": {},
   "outputs": [
    {
     "data": {
      "text/html": [
       "<div>\n",
       "<style scoped>\n",
       "    .dataframe tbody tr th:only-of-type {\n",
       "        vertical-align: middle;\n",
       "    }\n",
       "\n",
       "    .dataframe tbody tr th {\n",
       "        vertical-align: top;\n",
       "    }\n",
       "\n",
       "    .dataframe thead th {\n",
       "        text-align: right;\n",
       "    }\n",
       "</style>\n",
       "<table border=\"1\" class=\"dataframe\">\n",
       "  <thead>\n",
       "    <tr style=\"text-align: right;\">\n",
       "      <th></th>\n",
       "      <th>0</th>\n",
       "    </tr>\n",
       "  </thead>\n",
       "  <tbody>\n",
       "    <tr>\n",
       "      <th>0</th>\n",
       "      <td>-117.686793</td>\n",
       "    </tr>\n",
       "    <tr>\n",
       "      <th>1</th>\n",
       "      <td>-121.953456</td>\n",
       "    </tr>\n",
       "    <tr>\n",
       "      <th>2</th>\n",
       "      <td>60.773723</td>\n",
       "    </tr>\n",
       "    <tr>\n",
       "      <th>3</th>\n",
       "      <td>-143.307362</td>\n",
       "    </tr>\n",
       "    <tr>\n",
       "      <th>4</th>\n",
       "      <td>-26.997685</td>\n",
       "    </tr>\n",
       "    <tr>\n",
       "      <th>...</th>\n",
       "      <td>...</td>\n",
       "    </tr>\n",
       "    <tr>\n",
       "      <th>95</th>\n",
       "      <td>-36.940385</td>\n",
       "    </tr>\n",
       "    <tr>\n",
       "      <th>96</th>\n",
       "      <td>12.051599</td>\n",
       "    </tr>\n",
       "    <tr>\n",
       "      <th>97</th>\n",
       "      <td>47.330509</td>\n",
       "    </tr>\n",
       "    <tr>\n",
       "      <th>98</th>\n",
       "      <td>-136.948077</td>\n",
       "    </tr>\n",
       "    <tr>\n",
       "      <th>99</th>\n",
       "      <td>126.018964</td>\n",
       "    </tr>\n",
       "  </tbody>\n",
       "</table>\n",
       "<p>100 rows × 1 columns</p>\n",
       "</div>"
      ],
      "text/plain": [
       "             0\n",
       "0  -117.686793\n",
       "1  -121.953456\n",
       "2    60.773723\n",
       "3  -143.307362\n",
       "4   -26.997685\n",
       "..         ...\n",
       "95  -36.940385\n",
       "96   12.051599\n",
       "97   47.330509\n",
       "98 -136.948077\n",
       "99  126.018964\n",
       "\n",
       "[100 rows x 1 columns]"
      ]
     },
     "execution_count": 7,
     "metadata": {},
     "output_type": "execute_result"
    }
   ],
   "source": [
    "Y = pd.DataFrame(Y)\n",
    "Y"
   ]
  },
  {
   "cell_type": "markdown",
   "id": "e22c1be3",
   "metadata": {},
   "source": [
    "### Split dataset into train and test datasets"
   ]
  },
  {
   "cell_type": "code",
   "execution_count": 8,
   "id": "fe12b931",
   "metadata": {},
   "outputs": [],
   "source": [
    "from sklearn.model_selection import train_test_split\n",
    "X_train,X_test,Y_train,Y_test = train_test_split(X,Y, test_size = 0.2, random_state = 12)"
   ]
  },
  {
   "cell_type": "markdown",
   "id": "11ff9cab",
   "metadata": {},
   "source": [
    "### Importing Linear Regression Algorithm"
   ]
  },
  {
   "cell_type": "code",
   "execution_count": 9,
   "id": "e48ed3b5",
   "metadata": {},
   "outputs": [],
   "source": [
    "from sklearn.linear_model import LinearRegression\n",
    "lr = LinearRegression()"
   ]
  },
  {
   "cell_type": "markdown",
   "id": "732a8139",
   "metadata": {},
   "source": [
    "##### fitting data to model"
   ]
  },
  {
   "cell_type": "code",
   "execution_count": 10,
   "id": "8c789fe2",
   "metadata": {},
   "outputs": [
    {
     "data": {
      "text/plain": [
       "LinearRegression()"
      ]
     },
     "execution_count": 10,
     "metadata": {},
     "output_type": "execute_result"
    }
   ],
   "source": [
    "lr.fit(X_train, Y_train)"
   ]
  },
  {
   "cell_type": "markdown",
   "id": "1a0b8f11",
   "metadata": {},
   "source": [
    "##### predicting test dataset"
   ]
  },
  {
   "cell_type": "code",
   "execution_count": 11,
   "id": "96b8a79d",
   "metadata": {},
   "outputs": [],
   "source": [
    "predict = lr.predict(X_test)"
   ]
  },
  {
   "cell_type": "markdown",
   "id": "68cd6f28",
   "metadata": {},
   "source": [
    "##### checking model accuracy"
   ]
  },
  {
   "cell_type": "code",
   "execution_count": 15,
   "id": "041df14e",
   "metadata": {},
   "outputs": [],
   "source": [
    "from sklearn.metrics import r2_score"
   ]
  },
  {
   "cell_type": "code",
   "execution_count": 16,
   "id": "a73d82ff",
   "metadata": {},
   "outputs": [
    {
     "data": {
      "text/plain": [
       "1.0"
      ]
     },
     "execution_count": 16,
     "metadata": {},
     "output_type": "execute_result"
    }
   ],
   "source": [
    "r2_score(predict, Y_test)"
   ]
  },
  {
   "cell_type": "code",
   "execution_count": null,
   "id": "cd06d1f7",
   "metadata": {},
   "outputs": [],
   "source": []
  }
 ],
 "metadata": {
  "kernelspec": {
   "display_name": "Python 3 (ipykernel)",
   "language": "python",
   "name": "python3"
  },
  "language_info": {
   "codemirror_mode": {
    "name": "ipython",
    "version": 3
   },
   "file_extension": ".py",
   "mimetype": "text/x-python",
   "name": "python",
   "nbconvert_exporter": "python",
   "pygments_lexer": "ipython3",
   "version": "3.9.13"
  }
 },
 "nbformat": 4,
 "nbformat_minor": 5
}
