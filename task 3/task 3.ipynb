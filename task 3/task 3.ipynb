{
 "cells": [
  {
   "cell_type": "markdown",
   "id": "bc13ba52",
   "metadata": {},
   "source": [
    "# Instead of importing data I used to create and append data to excel"
   ]
  },
  {
   "cell_type": "code",
   "execution_count": 1,
   "id": "2c219548",
   "metadata": {},
   "outputs": [],
   "source": [
    "# importing workbook from openpyxl\n",
    "from openpyxl import Workbook\n",
    "\n",
    "# importing os for path\n",
    "import os\n",
    "# This funciton will return the Current Working Directory\n",
    "cwd = os.getcwd() "
   ]
  },
  {
   "cell_type": "code",
   "execution_count": 2,
   "id": "a8f030dd",
   "metadata": {},
   "outputs": [],
   "source": [
    "# making instances of workbook\n",
    "wb = Workbook()"
   ]
  },
  {
   "cell_type": "code",
   "execution_count": 3,
   "id": "8750b855",
   "metadata": {},
   "outputs": [],
   "source": [
    "# working on worksheet\n",
    "ws = wb.active"
   ]
  },
  {
   "cell_type": "code",
   "execution_count": 4,
   "id": "4da71816",
   "metadata": {},
   "outputs": [],
   "source": [
    "# fruit data for sheet\n",
    "fruit_data = [['Fruit','Quantity'],['Mango',35],['Kiwi',23],['Strawberry',56],['Mango',65],['Watermelon',39],['Kiwi',46],['Apple',70],['Mango',57],['Strawberry',65],['Watermelon',25],['Apple',35],['Mango',15],['Lychee',73],['Strawberry',56],['Lychee',65],['Watermelon',39],['Muskmelon',46],['Lime',70]]"
   ]
  },
  {
   "cell_type": "code",
   "execution_count": 5,
   "id": "4bc7db47",
   "metadata": {},
   "outputs": [],
   "source": [
    "# adding data to excel sheet\n",
    "for row in fruit_data:\n",
    "    ws.append(row)"
   ]
  },
  {
   "cell_type": "markdown",
   "id": "d8180fdd",
   "metadata": {},
   "source": [
    "# Saving file for further use"
   ]
  },
  {
   "cell_type": "code",
   "execution_count": 6,
   "id": "b0e3defe",
   "metadata": {},
   "outputs": [],
   "source": [
    "# saving excel workbook\n",
    "wb.save(\"C:\\\\Users\\\\Golden\\\\Desktop\\\\phn\\\\task 3\\\\fruits.xlsx\")"
   ]
  },
  {
   "cell_type": "code",
   "execution_count": 7,
   "id": "90debd1b",
   "metadata": {},
   "outputs": [],
   "source": [
    "# importing load workbook from openpyxl\n",
    "from openpyxl import load_workbook"
   ]
  },
  {
   "cell_type": "markdown",
   "id": "9cf751ff",
   "metadata": {},
   "source": [
    "# Accessing Saved file"
   ]
  },
  {
   "cell_type": "code",
   "execution_count": 8,
   "id": "5588ac7d",
   "metadata": {},
   "outputs": [],
   "source": [
    "# saving excel file name in a variable\n",
    "filename = \"\\\\fruits.xlsx\"\n",
    "# loading workbook that we already saved\n",
    "wb = load_workbook(cwd+filename)"
   ]
  },
  {
   "cell_type": "code",
   "execution_count": 9,
   "id": "c76945c3",
   "metadata": {},
   "outputs": [],
   "source": [
    "# loading worksheet to get data from it\n",
    "sheet = wb[\"Sheet\"]"
   ]
  },
  {
   "cell_type": "markdown",
   "id": "89146ead",
   "metadata": {},
   "source": [
    "# Read the data from the Excel spreadsheet."
   ]
  },
  {
   "cell_type": "code",
   "execution_count": 10,
   "id": "2650a22c",
   "metadata": {},
   "outputs": [
    {
     "name": "stdout",
     "output_type": "stream",
     "text": [
      "Cell Value => Mango\n",
      "Cell Value => 35\n",
      "-------------\n",
      "Cell Value => Kiwi\n",
      "Cell Value => 23\n",
      "-------------\n",
      "Cell Value => Strawberry\n",
      "Cell Value => 56\n",
      "-------------\n",
      "Cell Value => Mango\n",
      "Cell Value => 65\n",
      "-------------\n",
      "Cell Value => Watermelon\n",
      "Cell Value => 39\n",
      "-------------\n",
      "Cell Value => Kiwi\n",
      "Cell Value => 46\n",
      "-------------\n",
      "Cell Value => Apple\n",
      "Cell Value => 70\n",
      "-------------\n",
      "Cell Value => Mango\n",
      "Cell Value => 57\n",
      "-------------\n",
      "Cell Value => Strawberry\n",
      "Cell Value => 65\n",
      "-------------\n",
      "Cell Value => Watermelon\n",
      "Cell Value => 25\n",
      "-------------\n",
      "Cell Value => Apple\n",
      "Cell Value => 35\n",
      "-------------\n",
      "Cell Value => Mango\n",
      "Cell Value => 15\n",
      "-------------\n",
      "Cell Value => Lychee\n",
      "Cell Value => 73\n",
      "-------------\n",
      "Cell Value => Strawberry\n",
      "Cell Value => 56\n",
      "-------------\n",
      "Cell Value => Lychee\n",
      "Cell Value => 65\n",
      "-------------\n",
      "Cell Value => Watermelon\n",
      "Cell Value => 39\n",
      "-------------\n",
      "Cell Value => Muskmelon\n",
      "Cell Value => 46\n",
      "-------------\n",
      "Cell Value => Lime\n",
      "Cell Value => 70\n",
      "-------------\n"
     ]
    }
   ],
   "source": [
    "# reading data from excel spreadsheet and displaying it\n",
    "for row in sheet[\"A2:B19\"]:\n",
    "    for i,cell in enumerate(row):\n",
    "        print('Cell Value => '+ str(cell.value))\n",
    "    print('-------------')"
   ]
  },
  {
   "cell_type": "markdown",
   "id": "b7569580",
   "metadata": {},
   "source": [
    "# Calculate the total quantity of each fruit."
   ]
  },
  {
   "cell_type": "code",
   "execution_count": 11,
   "id": "e2674dfe",
   "metadata": {},
   "outputs": [
    {
     "name": "stdout",
     "output_type": "stream",
     "text": [
      "[['Fruit', 'Quantity'], ['Mango', 172], ['Kiwi', 69], ['Strawberry', 177], ['Watermelon', 103], ['Apple', 105], ['Lychee', 138], ['Muskmelon', 46], ['Lime', 70]]\n"
     ]
    }
   ],
   "source": [
    "# creating an empty list to store data from excel sheet as \"total\"\n",
    "total = []\n",
    "\n",
    "# accesing data \n",
    "for row in sheet:\n",
    "\n",
    "#     saving fruit name to manage if repeated\n",
    "    to_find = row[0].value\n",
    "    \n",
    "#     making a variable with False boolean value\n",
    "    result = False\n",
    "    \n",
    "#     checking if the name is already present in our \"total\" list \n",
    "    result = any(to_find in list for list in total)\n",
    "    \n",
    "#     if fruit name is not repeated then saving it in \"total\" list\n",
    "    if result == False:\n",
    "#         getting the values of name and quantity\n",
    "        name = row[0].value\n",
    "        quanti = row[1].value\n",
    "        \n",
    "#         making another list to save it in \"total\" list by each row\n",
    "        data = []\n",
    "        data.append(name)\n",
    "        data.append(quanti)\n",
    "        \n",
    "#         passing each row data as list to \"total\" list\n",
    "        total.append(data)\n",
    "        \n",
    "#         if fruit name is repeated then adding old and new quantities to make it a total\n",
    "    elif result == True:\n",
    "#         getting the values of name and quantity\n",
    "        name = row[0].value\n",
    "        quanti = row[1].value\n",
    "\n",
    "#         making another list to save it in \"total\" list by each row        \n",
    "        data = []\n",
    "        data.append(name)\n",
    "        data.append(quanti)\n",
    "        \n",
    "#         accessing our list to update it \n",
    "        for i,sublist in enumerate(total):\n",
    "#             checking if the fruit name is occured in \"total\" list\n",
    "            avail = sublist.count(data[0])\n",
    "            \n",
    "#             if friut name is occured in \"total\" then updating it\n",
    "            if avail != 0:\n",
    "        \n",
    "#                 getting the index of repeated fruit name from \"total\" list\n",
    "                ind = sublist.index(data[0])\n",
    "#                 adding new quantity to old quantity in \"total\" list\n",
    "                total[i][ind + 1] = total[i][1] + data[1]\n",
    "                \n",
    "#     else\n",
    "    else:\n",
    "        continue\n",
    "        \n",
    "print(total)"
   ]
  },
  {
   "cell_type": "markdown",
   "id": "9bd657cf",
   "metadata": {},
   "source": [
    "# Write the results to a new Excel spreadsheet with the following format:\n",
    "1. The first column should contain the name of each fruit.\n",
    "2. The second column should contain the total quantity of that fruit."
   ]
  },
  {
   "cell_type": "code",
   "execution_count": 12,
   "id": "5bd3e618",
   "metadata": {},
   "outputs": [],
   "source": [
    "# creating new sheet in saved excel workbook\n",
    "sheet2 = wb.create_sheet(title=\"New\")\n",
    "\n",
    "# saving it in excel workbook\n",
    "wb.save(cwd+filename)"
   ]
  },
  {
   "cell_type": "code",
   "execution_count": 13,
   "id": "e68392b4",
   "metadata": {},
   "outputs": [],
   "source": [
    "# accessing new sheet\n",
    "sheet2 = wb['New']"
   ]
  },
  {
   "cell_type": "code",
   "execution_count": 14,
   "id": "ab445384",
   "metadata": {},
   "outputs": [],
   "source": [
    "# adding new merged data into new work sheet from total list\n",
    "for row in total:\n",
    "    sheet2.append(row)\n",
    "    \n",
    "# saving new worksheet\n",
    "wb.save(cwd+filename)"
   ]
  },
  {
   "cell_type": "code",
   "execution_count": 15,
   "id": "0d4094f3",
   "metadata": {},
   "outputs": [
    {
     "name": "stdout",
     "output_type": "stream",
     "text": [
      "Cell Value => Fruit\n",
      "Cell Value => Quantity\n",
      "---------------\n",
      "Cell Value => Mango\n",
      "Cell Value => 172\n",
      "---------------\n",
      "Cell Value => Kiwi\n",
      "Cell Value => 69\n",
      "---------------\n",
      "Cell Value => Strawberry\n",
      "Cell Value => 177\n",
      "---------------\n",
      "Cell Value => Watermelon\n",
      "Cell Value => 103\n",
      "---------------\n",
      "Cell Value => Apple\n",
      "Cell Value => 105\n",
      "---------------\n",
      "Cell Value => Lychee\n",
      "Cell Value => 138\n",
      "---------------\n",
      "Cell Value => Muskmelon\n",
      "Cell Value => 46\n",
      "---------------\n",
      "Cell Value => Lime\n",
      "Cell Value => 70\n",
      "---------------\n"
     ]
    }
   ],
   "source": [
    "# displaying data from new worksheet\n",
    "for row in sheet2:\n",
    "    for cell in row:\n",
    "        print('Cell Value => ' + str(cell.value))\n",
    "    print('---------------')"
   ]
  },
  {
   "cell_type": "code",
   "execution_count": null,
   "id": "118acaac",
   "metadata": {},
   "outputs": [],
   "source": []
  }
 ],
 "metadata": {
  "kernelspec": {
   "display_name": "Python 3 (ipykernel)",
   "language": "python",
   "name": "python3"
  },
  "language_info": {
   "codemirror_mode": {
    "name": "ipython",
    "version": 3
   },
   "file_extension": ".py",
   "mimetype": "text/x-python",
   "name": "python",
   "nbconvert_exporter": "python",
   "pygments_lexer": "ipython3",
   "version": "3.9.13"
  }
 },
 "nbformat": 4,
 "nbformat_minor": 5
}
